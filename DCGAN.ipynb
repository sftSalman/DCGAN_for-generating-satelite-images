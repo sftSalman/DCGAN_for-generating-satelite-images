{
  "nbformat": 4,
  "nbformat_minor": 0,
  "metadata": {
    "colab": {
      "provenance": [],
      "gpuType": "T4",
      "authorship_tag": "ABX9TyPNngge7isR+QFL60L5i2RX",
      "include_colab_link": true
    },
    "kernelspec": {
      "name": "python3",
      "display_name": "Python 3"
    },
    "language_info": {
      "name": "python"
    },
    "accelerator": "GPU"
  },
  "cells": [
    {
      "cell_type": "markdown",
      "metadata": {
        "id": "view-in-github",
        "colab_type": "text"
      },
      "source": [
        "<a href=\"https://colab.research.google.com/github/sftSalman/DCGAN_for-generating-satelite-images/blob/main/DCGAN.ipynb\" target=\"_parent\"><img src=\"https://colab.research.google.com/assets/colab-badge.svg\" alt=\"Open In Colab\"/></a>"
      ]
    },
    {
      "cell_type": "code",
      "execution_count": 24,
      "metadata": {
        "id": "tF7TUobOlMP1"
      },
      "outputs": [],
      "source": [
        "import torch \n",
        "import torch.nn as nn"
      ]
    },
    {
      "cell_type": "code",
      "source": [
        "class Discriminator(nn.Module):\n",
        "\n",
        "  def __init__(self, channels_img, features_d):\n",
        "    super(Discriminator,self).__init__()\n",
        "\n",
        "    self.disc = nn.Sequential(\n",
        "        \n",
        "        nn.Conv2d(channels_img,features_d,kernel_size=4,stride=2,padding=1),\n",
        "        nn.LeakyReLU(0.2),\n",
        "        self.block(features_d, features_d*2 , 4, 2,1),\n",
        "        self.block(features_d*2, features_d*4 , 4, 2,1),\n",
        "        self.block(features_d*4, features_d*8 , 4, 2,1),\n",
        "\n",
        "        nn.Conv2d(features_d * 8, 1,kernel_size=4,stride=2,padding=0),\n",
        "        nn.Sigmoid(),\n",
        "\n",
        "        \n",
        "   \n",
        "\n",
        "\n",
        "    )\n",
        "\n",
        "\n",
        "  def block(self,in_channels,out_channels,kernel_size,stride,padding):\n",
        "\n",
        "    return nn.Sequential(\n",
        "        nn.Conv2d(\n",
        "            in_channels,\n",
        "            out_channels,\n",
        "            kernel_size,\n",
        "            stride,\n",
        "            padding,\n",
        "            bias = False\n",
        "          ),\n",
        "       # nn.BatchNorm1d2d(out_channels),\n",
        "        nn.LeakyReLU(0.2)\n",
        "\n",
        "      )\n",
        "\n",
        "  def forward(self,x):\n",
        "    return self.disc(x)"
      ],
      "metadata": {
        "id": "ujYFN6KYlcm-"
      },
      "execution_count": 25,
      "outputs": []
    },
    {
      "cell_type": "code",
      "source": [
        "class Generator(nn.Module):\n",
        "  def __init__(self,channels_noise,channels_img,features_g):\n",
        "    super(Generator,self).__init__()\n",
        "\n",
        "    self.net = nn.Sequential(\n",
        "        self.block(channels_noise,features_g*16,4,1,0),\n",
        "        self.block(features_g * 16, features_g * 8, 4, 2, 1),\n",
        "        self.block(features_g * 8, features_g * 4, 4, 2, 1),\n",
        "        self.block(features_g * 4, features_g * 2, 4, 2, 1),\n",
        "\n",
        "        nn.ConvTranspose2d(features_g*2, channels_img,kernel_size=4,stride=2,padding=1),\n",
        "        nn.Tanh(),\n",
        "        \n",
        "    )\n",
        "  \n",
        "  def block(self, in_channels,out_channels,kernel_size,stride,padding):\n",
        "    return nn.Sequential(\n",
        "        nn.ConvTranspose2d(\n",
        "            in_channels,\n",
        "            out_channels,\n",
        "            kernel_size,\n",
        "            stride,\n",
        "            padding,\n",
        "            bias = False\n",
        "        ),\n",
        "        nn.ReLU()\n",
        "\n",
        "    )\n",
        "  \n",
        "  def forward(self,x):\n",
        "    return self.net(x)\n",
        "\n"
      ],
      "metadata": {
        "id": "MHJYY3SemT8q"
      },
      "execution_count": 26,
      "outputs": []
    },
    {
      "cell_type": "code",
      "source": [
        "def initialize_weights(models):\n",
        "  for m in models.modules():\n",
        "    if isinstance(m,(nn.Conv2d,nn.ConvTranspose2d,nn.BatchNorm2d)):\n",
        "      nn.init.normal_(m.weight.data, 0.0, 0.02)"
      ],
      "metadata": {
        "id": "uauy02Nx1P46"
      },
      "execution_count": 40,
      "outputs": []
    },
    {
      "cell_type": "code",
      "source": [
        "def test():\n",
        "    N, in_channels, H, W = 8, 3, 64, 64\n",
        "    noise_dim = 100\n",
        "    x = torch.randn((N, in_channels, H, W))\n",
        "    disc = Discriminator(in_channels, 8)\n",
        "    assert disc(x).shape == (N, 1, 1, 1), \"Discriminator test failed\"\n",
        "    gen = Generator(noise_dim, in_channels, 8)\n",
        "    z = torch.randn((N, noise_dim, 1, 1))\n",
        "    assert gen(z).shape == (N, in_channels, H, W), \"Generator test failed\"\n",
        "    print(\"Success, tests passed!\")"
      ],
      "metadata": {
        "id": "CnPIN3Cw2HsF"
      },
      "execution_count": 28,
      "outputs": []
    },
    {
      "cell_type": "code",
      "source": [
        "test()"
      ],
      "metadata": {
        "colab": {
          "base_uri": "https://localhost:8080/"
        },
        "id": "0pckNCvX2Lbi",
        "outputId": "0f55c5d1-e39d-4d1c-d2eb-3a2819710c34"
      },
      "execution_count": 44,
      "outputs": [
        {
          "output_type": "stream",
          "name": "stdout",
          "text": [
            "Success, tests passed!\n"
          ]
        }
      ]
    },
    {
      "cell_type": "code",
      "source": [
        "import torch.optim as optim \n",
        "import torchvision\n",
        "import torchvision.datasets as datasets\n",
        "#from torchvision.transforms import transfroms \n",
        "import torchvision.transforms as transfoms\n",
        "#from torch.utils.data import Dataloader \n",
        "from torch.utils.data import DataLoader\n",
        "from torch.utils.tensorboard import SummaryWriter\n"
      ],
      "metadata": {
        "id": "-s0hI9Sm2PdP"
      },
      "execution_count": 29,
      "outputs": []
    },
    {
      "cell_type": "code",
      "source": [
        "LEARNING_RAT = 2e-4 \n",
        "BATCH_SIZE = 128\n",
        "IMAGE_SIZE = 64\n",
        "CHANNELS_IMG = 1 \n",
        "NOISE_DIM = 100\n",
        "NUM_EPOCHS = 5 \n",
        "FEATURES_DISC = 64 \n",
        "FEATURES_GEN = 64"
      ],
      "metadata": {
        "id": "BOS8-_5RRVHf"
      },
      "execution_count": 30,
      "outputs": []
    },
    {
      "cell_type": "code",
      "source": [
        "pip install torch\n"
      ],
      "metadata": {
        "colab": {
          "base_uri": "https://localhost:8080/"
        },
        "id": "mwjzqi73Sxu6",
        "outputId": "6c508651-4c66-482d-be6d-8e91d381c665"
      },
      "execution_count": 8,
      "outputs": [
        {
          "output_type": "stream",
          "name": "stdout",
          "text": [
            "Looking in indexes: https://pypi.org/simple, https://us-python.pkg.dev/colab-wheels/public/simple/\n",
            "Requirement already satisfied: torch in /usr/local/lib/python3.10/dist-packages (2.0.1+cu118)\n",
            "Requirement already satisfied: filelock in /usr/local/lib/python3.10/dist-packages (from torch) (3.12.0)\n",
            "Requirement already satisfied: typing-extensions in /usr/local/lib/python3.10/dist-packages (from torch) (4.5.0)\n",
            "Requirement already satisfied: sympy in /usr/local/lib/python3.10/dist-packages (from torch) (1.11.1)\n",
            "Requirement already satisfied: networkx in /usr/local/lib/python3.10/dist-packages (from torch) (3.1)\n",
            "Requirement already satisfied: jinja2 in /usr/local/lib/python3.10/dist-packages (from torch) (3.1.2)\n",
            "Requirement already satisfied: triton==2.0.0 in /usr/local/lib/python3.10/dist-packages (from torch) (2.0.0)\n",
            "Requirement already satisfied: cmake in /usr/local/lib/python3.10/dist-packages (from triton==2.0.0->torch) (3.25.2)\n",
            "Requirement already satisfied: lit in /usr/local/lib/python3.10/dist-packages (from triton==2.0.0->torch) (16.0.5)\n",
            "Requirement already satisfied: MarkupSafe>=2.0 in /usr/local/lib/python3.10/dist-packages (from jinja2->torch) (2.1.2)\n",
            "Requirement already satisfied: mpmath>=0.19 in /usr/local/lib/python3.10/dist-packages (from sympy->torch) (1.3.0)\n"
          ]
        }
      ]
    },
    {
      "cell_type": "code",
      "source": [
        "\n",
        "import torch\n",
        "import torch\n",
        "\n",
        "device = torch.device(\"cuda\" if torch.cuda.is_available() else \"cpu\")\n"
      ],
      "metadata": {
        "id": "CE6LUFDWSXAY"
      },
      "execution_count": 31,
      "outputs": []
    },
    {
      "cell_type": "code",
      "source": [
        "from torchvision import transforms\n",
        "\n",
        "transforms = transforms.Compose([\n",
        "    transforms.Resize(IMAGE_SIZE),\n",
        "    transforms.ToTensor(),\n",
        "    transforms.Normalize([0.5 for _ in range(CHANNELS_IMG)], [0.5 for _ in range(CHANNELS_IMG)])\n",
        "])\n"
      ],
      "metadata": {
        "id": "fYXQe8WyTbwz"
      },
      "execution_count": 33,
      "outputs": []
    },
    {
      "cell_type": "code",
      "source": [
        "# dataset = datasets.MNIST(\n",
        "#     root=\"dataset/\", train=True, transform=transforms, download=True\n",
        "# )"
      ],
      "metadata": {
        "id": "vMIUa1StVYzk"
      },
      "execution_count": null,
      "outputs": []
    },
    {
      "cell_type": "code",
      "source": [
        "dataloader = DataLoader(datasets,batch_size=BATCH_SIZE,shuffle=True)\n",
        "gen = Generator(NOISE_DIM,CHANNELS_IMG,FEATURES_GEN).to(device)\n",
        "disc = Discriminator(CHANNELS_IMG,FEATURES_DISC).to(device)"
      ],
      "metadata": {
        "id": "VUyRbnjVVy1T"
      },
      "execution_count": 37,
      "outputs": []
    },
    {
      "cell_type": "code",
      "source": [
        "initialize_weights(gen)\n",
        "initialize_weights(disc)"
      ],
      "metadata": {
        "id": "tp35hKEgXAF_"
      },
      "execution_count": 41,
      "outputs": []
    },
    {
      "cell_type": "code",
      "source": [
        "opt_gen = optim.Adam(gen.parameters(),lr=LEARNING_RAT,betas=(0.5,0.999))\n",
        "opt_gen = optim.Adam(disc.parameters(),lr=LEARNING_RAT,betas=(0.5,0.999))\n",
        "criterian = nn.BCELoss()"
      ],
      "metadata": {
        "id": "lRRxyaSVYwiw"
      },
      "execution_count": 42,
      "outputs": []
    },
    {
      "cell_type": "code",
      "source": [
        "gen.train()\n",
        "disc.train()"
      ],
      "metadata": {
        "colab": {
          "base_uri": "https://localhost:8080/"
        },
        "id": "H6MBZ9MjZttH",
        "outputId": "5538217d-9211-469f-83d6-ca15d880c296"
      },
      "execution_count": 43,
      "outputs": [
        {
          "output_type": "execute_result",
          "data": {
            "text/plain": [
              "Discriminator(\n",
              "  (disc): Sequential(\n",
              "    (0): Conv2d(1, 64, kernel_size=(4, 4), stride=(2, 2), padding=(1, 1))\n",
              "    (1): LeakyReLU(negative_slope=0.2)\n",
              "    (2): Sequential(\n",
              "      (0): Conv2d(64, 128, kernel_size=(4, 4), stride=(2, 2), padding=(1, 1), bias=False)\n",
              "      (1): LeakyReLU(negative_slope=0.2)\n",
              "    )\n",
              "    (3): Sequential(\n",
              "      (0): Conv2d(128, 256, kernel_size=(4, 4), stride=(2, 2), padding=(1, 1), bias=False)\n",
              "      (1): LeakyReLU(negative_slope=0.2)\n",
              "    )\n",
              "    (4): Sequential(\n",
              "      (0): Conv2d(256, 512, kernel_size=(4, 4), stride=(2, 2), padding=(1, 1), bias=False)\n",
              "      (1): LeakyReLU(negative_slope=0.2)\n",
              "    )\n",
              "    (5): Conv2d(512, 1, kernel_size=(4, 4), stride=(2, 2))\n",
              "    (6): Sigmoid()\n",
              "  )\n",
              ")"
            ]
          },
          "metadata": {},
          "execution_count": 43
        }
      ]
    },
    {
      "cell_type": "code",
      "source": [
        "for epoch in range(NUM_EPOCHS):\n",
        "  for batch_idx,(real,_) in enumerate(dataloader):\n",
        "    real = real.to(device)\n",
        "    noise = torch.randn(BATCH_SIZE,NOISE_DIM,1,1).to(device)\n",
        "    fake = gen(noise)\n",
        "    disc_real = criterian(d)"
      ],
      "metadata": {
        "id": "2BC-4chtZzKw"
      },
      "execution_count": null,
      "outputs": []
    }
  ]
}